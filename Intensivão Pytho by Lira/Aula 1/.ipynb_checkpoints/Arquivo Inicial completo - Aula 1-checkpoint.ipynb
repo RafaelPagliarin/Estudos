{
 "cells": [
  {
   "cell_type": "markdown",
   "metadata": {},
   "source": [
    "# Automação de Sistemas e Processos com Python\n",
    "\n",
    "### Desafio:\n",
    "\n",
    "Todos os dias, o nosso sistema atualiza as vendas do dia anterior.\n",
    "O seu trabalho diário, como analista, é enviar um e-mail para a diretoria, assim que começar a trabalhar, com o faturamento e a quantidade de produtos vendidos no dia anterior\n",
    "\n",
    "E-mail da diretoria: seugmail+diretoria@gmail.com<br>\n",
    "Local onde o sistema disponibiliza as vendas do dia anterior: https://drive.google.com/drive/folders/149xknr9JvrlEnhNWO49zPcw0PW5icxga?usp=sharing\n",
    "\n",
    "Para resolver isso, vamos usar o pyautogui, uma biblioteca de automação de comandos do mouse e do teclado"
   ]
  },
  {
   "cell_type": "code",
   "execution_count": 5,
   "metadata": {},
   "outputs": [],
   "source": [
    "# biblioteca que controla mouse, teclado e tela\n",
    "# !pip install pyautogui"
   ]
  },
  {
   "cell_type": "code",
   "execution_count": 6,
   "metadata": {},
   "outputs": [],
   "source": [
    "import pyautogui\n",
    "import pyperclip\n",
    "from time import sleep\n",
    "pyautogui.PAUSE = 0.5"
   ]
  },
  {
   "cell_type": "code",
   "execution_count": 7,
   "metadata": {},
   "outputs": [],
   "source": [
    "# PASSO A PASSO - LÓGICA DE PROGRAMAÇÃO - EM PORTUGUÊS\n",
    "\n",
    "##### passo 1: Entrar no sistema (na nossa casa) - no exemplo será o link do drive\n",
    "\n",
    "# A) abrir nevagador\n",
    "\n",
    "#caso o navegador já esteja aberto\n",
    "pyautogui.hotkey('ctrl', 't') \n",
    "\n",
    "#caso o navegador esteja fechado\n",
    "'''\n",
    "pyautogui.press('win')\n",
    "pyautogui.write('edge')\n",
    "pyautogui.press('enter')\n",
    "'''\n",
    "\n",
    "# B) entrar no link\n",
    "pyautogui.write(\"https://drive.google.com/drive/folders/149xknr9JvrlEnhNWO49zPcw0PW5icxga?usp=sharing\")\n",
    "pyautogui.press('enter')\n",
    "sleep(2)\n",
    "\n",
    "##### passo 2: Navegar no sistema e encontrar a base de dados - no exemplo será entrar na pasta explorar\n",
    "\n",
    "# A) clicar com o mouse em cima da pasta\n",
    "pyautogui.click(x=350, y=305, clicks=2)\n",
    "sleep(2)\n",
    "\n",
    "\n",
    "##### passo 3: Download da base de dados\n",
    "\n",
    "pyautogui.click(x=376, y=395) # clicar na posição do arquivo desejado\n",
    "pyautogui.click(x=2355, y=193) # clicar nos 3 pontinhos na lateral\n",
    "pyautogui.click(x=2087, y=597) # clicar em \"fazer download\"\n",
    "sleep(5)"
   ]
  },
  {
   "cell_type": "markdown",
   "metadata": {},
   "source": [
    "### Vamos agora ler o arquivo baixado para pegar os indicadores\n",
    "\n",
    "- Faturamento\n",
    "- Quantidade de Produtos"
   ]
  },
  {
   "cell_type": "code",
   "execution_count": null,
   "metadata": {},
   "outputs": [],
   "source": []
  },
  {
   "cell_type": "code",
   "execution_count": 8,
   "metadata": {
    "scrolled": true
   },
   "outputs": [],
   "source": [
    "##### passo 4: Calcular os indicadores (faturamento, quantidade de produtos)\n",
    "import pandas as pd\n",
    "\n",
    "# importando os dados da tabela para uma variável\n",
    "tabela = pd.read_excel(r'C:\\Users\\Raizen\\Downloads\\Vendas - Dez.xlsx')\n",
    "\n",
    "# usando os dados importados\n",
    "quantidade = tabela['Quantidade'].sum()    #soma da coluna quantidade\n",
    "faturamento = tabela['Valor Final'].sum()  #soma da coluna valor final"
   ]
  },
  {
   "cell_type": "markdown",
   "metadata": {},
   "source": [
    "### Vamos agora enviar um e-mail pelo gmail"
   ]
  },
  {
   "cell_type": "code",
   "execution_count": 9,
   "metadata": {
    "scrolled": true
   },
   "outputs": [],
   "source": [
    "##### passo 5: Entrar no email\n",
    "pyautogui.hotkey('ctrl', 't') \n",
    "pyautogui.write('https://mail.google.com/mail/u/0/#inbox'.lower())\n",
    "pyautogui.press('enter')\n",
    "sleep(2)\n",
    "    \n",
    "##### passo 6: Mandar um email para a diretoria com os indicadores\n",
    "\n",
    "pyautogui.click(x=80, y=204) # clicar no botão +\n",
    "\n",
    "pyautogui.write('pagliarinrafael@gmail.com') # escrever o destinatário\n",
    "pyautogui.press('tab') # selecionar o email\n",
    "pyautogui.press('tab') # mudar para campo de assunto\n",
    "\n",
    "# C) escrever o assunto\n",
    "pyperclip.copy(r'Relatório de Vendas')\n",
    "pyautogui.hotkey('ctrl', 'v')\n",
    "pyautogui.press('tab') # mudar para campo do corpo do email\n",
    "\n",
    "# D) escrever o corpo do e-mail\n",
    "texto = f'''Prezados, bom dia.\n",
    "\n",
    "O faturamento foi de R${faturamento:,.2f}\n",
    "A quantidade de vendas foi de {quantidade:,} unidades\\n'''\n",
    "\n",
    "\n",
    "pyperclip.copy(texto)\n",
    "pyautogui.hotkey('ctrl', 'v')\n",
    "\n",
    "# E) enviar e-mail\n",
    "pyautogui.hotkey('ctrl', 'enter')"
   ]
  },
  {
   "cell_type": "markdown",
   "metadata": {},
   "source": [
    "#### Use esse código para descobrir qual a posição de um item que queira clicar\n",
    "\n",
    "- Lembre-se: a posição na sua tela é diferente da posição na minha tela"
   ]
  },
  {
   "cell_type": "code",
   "execution_count": 10,
   "metadata": {},
   "outputs": [
    {
     "data": {
      "text/plain": [
       "Point(x=635, y=433)"
      ]
     },
     "execution_count": 10,
     "metadata": {},
     "output_type": "execute_result"
    }
   ],
   "source": [
    "sleep(5)\n",
    "pyautogui.position()"
   ]
  },
  {
   "cell_type": "code",
   "execution_count": null,
   "metadata": {},
   "outputs": [],
   "source": []
  }
 ],
 "metadata": {
  "kernelspec": {
   "display_name": "Python 3 (ipykernel)",
   "language": "python",
   "name": "python3"
  },
  "language_info": {
   "codemirror_mode": {
    "name": "ipython",
    "version": 3
   },
   "file_extension": ".py",
   "mimetype": "text/x-python",
   "name": "python",
   "nbconvert_exporter": "python",
   "pygments_lexer": "ipython3",
   "version": "3.9.12"
  }
 },
 "nbformat": 4,
 "nbformat_minor": 4
}
