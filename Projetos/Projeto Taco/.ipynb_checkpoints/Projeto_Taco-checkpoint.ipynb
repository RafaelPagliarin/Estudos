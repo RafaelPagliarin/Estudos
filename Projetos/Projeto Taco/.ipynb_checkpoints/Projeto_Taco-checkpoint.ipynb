{
 "cells": [
  {
   "cell_type": "markdown",
   "id": "9d7965b3",
   "metadata": {},
   "source": [
    "# Escopo\n",
    "\n",
    ">### Tabela\n",
    ">reservado para analisar e editar a tabela taco (onde ficam cadastrados todos os alimentos)\n",
    ">>[1] Pesquisar Alimento  \n",
    ">>[2] Adicionar Alimento  \n",
    ">>[3] Remover Alimento \n",
    "\n",
    ">### Cardapios\n",
    ">reservado para analisar e editar a tabela cardapio (onde fica cadastrado os alimentos da dieta da pessoa)  \n",
    ">>[1] Visualizar Refeições  \n",
    ">>[2] Adicionar Alimento à refeições   \n",
    ">>[3] Remover Alimento de refeições  \n",
    "\n",
    ">### Usuários\n",
    ">reservado para administrar os usuários do programa\n",
    ">>[1] Visualizar Detalhes de Usuário  \n",
    ">>[2] Adicionar Novo Usuário  \n",
    ">>[3] Atualizar Usuário  \n",
    ">>[4] Remover Usuário  \n",
    "\n",
    ">### Menu\n",
    ">reservado para realizar a apresentação do programa ao usuário, dando na tela as opções  \n",
    "\n",
    ">### Main Program\n",
    ">rodagem do programa, chamando as funções e integrando os menus  "
   ]
  },
  {
   "cell_type": "markdown",
   "id": "001441d4",
   "metadata": {},
   "source": [
    "### O que falta:\n",
    ">[ ] não sei salvar a lista \"lista_pessoas\" com os dados usados no programa e utiliza-lo novamente.\n",
    "consigo salvar os DF's dos cardapios, mas os dados dos usuários são perdidos. Como resolver?\n",
    "\n",
    ">[ ] Apresentação front-end: nunca estudei, não faço ideia de como fazer\n",
    "\n",
    ">[ ] criar executável\n",
    "\n",
    ">[ ] ???\n",
    "\n",
    ">[ ] profit"
   ]
  },
  {
   "cell_type": "code",
   "execution_count": 1,
   "id": "1d4796d3",
   "metadata": {
    "ExecuteTime": {
     "end_time": "2022-08-24T18:35:40.558222Z",
     "start_time": "2022-08-24T18:35:40.203087Z"
    }
   },
   "outputs": [],
   "source": [
    "import pandas as pd\n",
    "import json\n",
    "\n",
    "tabela_taco = pd.read_excel('Tabela_Taco.xlsx') #tabela onde as informações dos alimentos ficam armazenadas        \n",
    "tabela_cardapio = pd.read_excel('Cardapio.xlsx') #tabela referencia para criação de cardapios\n",
    "lista_pessoas = list() #lista contendo dicionários com dados dos usuários e seus cardapios"
   ]
  },
  {
   "cell_type": "code",
   "execution_count": 54,
   "id": "c8f3072e",
   "metadata": {
    "ExecuteTime": {
     "end_time": "2022-08-24T18:35:42.326461Z",
     "start_time": "2022-08-24T18:35:41.931150Z"
    }
   },
   "outputs": [],
   "source": [
    "def salvar_usuarios():\n",
    "    global lista_pessoas\n",
    "    with open('lista_pessoas.txt', 'w') as outfile:\n",
    "        for k, v in enumerate(lista_pessoas):\n",
    "            outfile.write(\"%s\\n\" % v)"
   ]
  },
  {
   "cell_type": "code",
   "execution_count": 55,
   "id": "71414b0a",
   "metadata": {},
   "outputs": [],
   "source": [
    "salvar_usuarios()"
   ]
  },
  {
   "cell_type": "code",
   "execution_count": 3,
   "id": "ccda1497",
   "metadata": {
    "ExecuteTime": {
     "end_time": "2022-08-24T19:15:24.542854Z",
     "start_time": "2022-08-24T19:15:24.530949Z"
    }
   },
   "outputs": [],
   "source": [
    "def checar_continuidade():\n",
    "    \"\"\"função responsável por checar se usuário deseja continuar realizando a ação presente\"\"\"\n",
    "    continuar = ' '\n",
    "    while continuar not in 'SN':\n",
    "        continuar = str(input('Deseja Continuar? [S/N] ')).strip().upper()[0]\n",
    "        if continuar not in 'SN':\n",
    "            print('Não entendi...')\n",
    "            continue\n",
    "    if  continuar == 'S':\n",
    "        return True\n",
    "    else:\n",
    "        return False"
   ]
  },
  {
   "cell_type": "code",
   "execution_count": 4,
   "id": "3ea65fbc",
   "metadata": {},
   "outputs": [],
   "source": [
    "def calcular_idade(bday):\n",
    "    '''função para calcular idade dos usuários'''\n",
    "    from datetime import date\n",
    "    today = date.today()\n",
    "    bissexto = ((today.month, today.day) < (bday.month, bday.day)) #retorna 0 ou 1\n",
    "    diferença = today.year - bday.year\n",
    "    idade = diferença - bissexto\n",
    "    return idade"
   ]
  },
  {
   "cell_type": "markdown",
   "id": "803f8726",
   "metadata": {},
   "source": [
    "##                    ========== TABELA ==========\n",
    ">[x] Procurar alimento na lista  \n",
    ">[x] Adicionar alimento à lista  \n",
    ">[x] Remover alimento da lista  \n"
   ]
  },
  {
   "cell_type": "code",
   "execution_count": 5,
   "id": "fdfd2c98",
   "metadata": {
    "ExecuteTime": {
     "end_time": "2022-08-24T18:35:47.523544Z",
     "start_time": "2022-08-24T18:35:47.518585Z"
    }
   },
   "outputs": [],
   "source": [
    "def procurar_alimento(alimento):\n",
    "    '''função que recebe nome do alimento, procura na tabela e caso encontre adiciona em nova tabela'''\n",
    "    global tabela_taco\n",
    "    tabela_alimento = pd.DataFrame()\n",
    "    for name in tabela_taco['Descrição dos alimentos']:\n",
    "        if alimento in str(name).lower():\n",
    "            tabela_alimento = pd.concat([tabela_alimento, tabela_taco.loc[tabela_taco['Descrição dos alimentos'] == name]])       \n",
    "    if tabela_alimento.shape[0] == 0:\n",
    "        print('Nenhum alimento encontrado')\n",
    "    return tabela_alimento"
   ]
  },
  {
   "cell_type": "code",
   "execution_count": 6,
   "id": "e63a4c91",
   "metadata": {
    "ExecuteTime": {
     "end_time": "2022-08-24T18:35:48.661367Z",
     "start_time": "2022-08-24T18:35:48.651943Z"
    }
   },
   "outputs": [],
   "source": [
    "def adicionar_alimento():\n",
    "    \"\"\"função responsável por adicionar alimento à tabela taco\"\"\"\n",
    "    global tabela_cardapio\n",
    "    global tabela_taco\n",
    "    nome_alimento = input('Digite o nome do alimento: ')\n",
    "    quantidade = float(input('Digite a porção, em gramas: '))\n",
    "    proteina = float(input('Digite a quantidade de proteina, em gramas:'))\n",
    "    gordura = float(input('Digite a quantidade de lipideos, em gramas:'))\n",
    "    carboidrato = float(input('Digite a quantidade de carboidrato, em gramas:'))\n",
    "    if quantidade == 100:\n",
    "        energia = (proteina * 4) + (carboidrato * 4) + (gordura * 9)\n",
    "    else:\n",
    "        print('Irei atualizar a tabela do alimento digitado para o padrão de 100g')\n",
    "        proteina = (proteina * quantidade)/100\n",
    "        carboidrato = (carboidrato * quantidade)/100\n",
    "        gordura = (gordura * quantidade)/100\n",
    "        energia = (proteina * 4) + (carboidrato * 4) + (gordura * 9)\n",
    "        \n",
    "    dict_alimento = {'Descrição dos alimentos': [nome_alimento],\n",
    "                     'Energia (kcal)': energia,\n",
    "                     'Proteína (g)': proteina,\n",
    "                     'Lipídeos (g)': gordura,\n",
    "                     'Carboidrato (g)': carboidrato\n",
    "                    }\n",
    "    add_alimento_DF = pd.DataFrame(dict_alimento)\n",
    "    display(add_alimento_DF)\n",
    "    check = ' '\n",
    "    while check not in 'SN':\n",
    "        check = str(input('Deseja adicionar esse elemento à tabela? [S/N]: ')).strip().upper()[0]\n",
    "        if check not in 'SN':\n",
    "            print('Não entendi...')\n",
    "    if check == 'S':\n",
    "        print('Adicionando alimento...')\n",
    "        tabela_taco = pd.concat([tabela_taco, add_alimento_DF], ignore_index = True)\n",
    "        display(tabela_taco)\n",
    "    else:\n",
    "        print('Alimento não adicionado.')"
   ]
  },
  {
   "cell_type": "code",
   "execution_count": 7,
   "id": "a082a87c",
   "metadata": {
    "ExecuteTime": {
     "end_time": "2022-08-24T19:20:19.178985Z",
     "start_time": "2022-08-24T19:20:19.178985Z"
    }
   },
   "outputs": [],
   "source": [
    "def remover_alimento_taco(alimento):\n",
    "    \"\"\"função responsável por remover alimento da tabela taco\"\"\"\n",
    "    global tabela_cardapio\n",
    "    global tabela_taco\n",
    "    tabela_alimento = pd.DataFrame()\n",
    "    tabela_alimento = procurar_alimento(alimento)\n",
    "    if tabela_alimento.shape[0] == 0:\n",
    "        return\n",
    "    else:\n",
    "        display(tabela_alimento)\n",
    "        remover = int(input('Deseja o número do indice do alimento que deseja remover: '))\n",
    "        tabela_taco = tabela_taco.drop(remover, axis=0)\n",
    "        print('Item removido com sucesso')\n",
    "        display(tabela_taco)\n"
   ]
  },
  {
   "cell_type": "markdown",
   "id": "80d223bf",
   "metadata": {},
   "source": [
    "##                     ========== REFEIÇÕES ==========\n",
    ">tudo na mesma dataframe, contando com seguinte dados:  \n",
    ">>refeição,alimento,quantidade,proteina,carboidrato,lipideos,kcal  \n",
    "\n",
    ">[X] puxar o alimento da planilha_taco para a tabela cardapio  \n",
    "    - verificando quantidade e refazendo calculo caso necessário  \n",
    ">[X] dividir por refeições para facilitar visualização  \n",
    ">[X] Remover alimento do cardapio  \n",
    ">[ ] calcular valores de macros e kcal por refeição e por dia  \n",
    ">[ ] usar a tabela_cardapio com as informações da pessoa  \n",
    "    \n"
   ]
  },
  {
   "cell_type": "code",
   "execution_count": 9,
   "id": "d02f2c56",
   "metadata": {
    "ExecuteTime": {
     "end_time": "2022-08-24T18:41:26.056628Z",
     "start_time": "2022-08-24T18:41:26.041749Z"
    }
   },
   "outputs": [],
   "source": [
    "def puxar_alimento(alimento, pessoa):\n",
    "    '''função responsável por pegar um alimento da tabela taco e adicionar à\n",
    "    tabela cardapio do usuário selecionado'''\n",
    "    global tabela_cardapio\n",
    "    global lista_pessoas\n",
    "    tabela_alimento = pd.DataFrame()\n",
    "    #procurando alimento e mostrando na tela\n",
    "    tabela_alimento = procurar_alimento(alimento)\n",
    "    print('Foram encontrados estes alimentos: ')\n",
    "    display(tabela_alimento)\n",
    "    #selecionando o indice do alimento \n",
    "    index = int(input('Número do alimento desejado: '))\n",
    "    #adicionando valores de quantidade e nome da refeição\n",
    "    tabela_alimento.at[index,'Quantidade'] = int(input('Quantas gramas ou unidades do alimento deseja adicionar? '))\n",
    "    #alterações caso porção não seja padrão\n",
    "    if tabela_alimento.at[index,'Quantidade'] != 100 or tabela_alimento.at[index,'Quantidade'] != 1:\n",
    "        tabela_alimento.at[index,'Proteína (g)'] = ((tabela_alimento.at[index,'Quantidade'] * tabela_alimento.at[index,'Proteína (g)']))/100\n",
    "        tabela_alimento.at[index,'Lipídeos (g)'] = ((tabela_alimento.at[index,'Quantidade'] * tabela_alimento.at[index,'Lipídeos (g)']))/100\n",
    "        tabela_alimento.at[index,'Carboidrato (g)'] = ((tabela_alimento.at[index,'Quantidade'] * tabela_alimento.at[index,'Carboidrato (g)']))/100\n",
    "        tabela_alimento.at[index,'Fibra Alimentar (g)'] = ((tabela_alimento.at[index,'Quantidade'] * tabela_alimento.at[index,'Fibra Alimentar (g)']))/100\n",
    "        tabela_alimento.at[index,'Energia (kcal)'] =  ((tabela_alimento.at[index,'Proteína (g)'] * 4) +\n",
    "                                                      (tabela_alimento.at[index,'Lipídeos (g)'] * 9) +\n",
    "                                                      (tabela_alimento.at[index,'Carboidrato (g)'] * 4))\n",
    "    tabela_alimento.at[index,'Refeição'] = str(input('A qual refeição deseja adicionar esse alimento? ')).strip().title()\n",
    "    #adicionando o alimento selecionado à tabela cardapio\n",
    "    lista_pessoas[pessoa]['Tabela_Cardapio'] = pd.concat([lista_pessoas[pessoa]['Tabela_Cardapio'], tabela_alimento.loc[[index]]], ignore_index=True, axis=0)\n",
    "    display(lista_pessoas[pessoa]['Tabela_Cardapio'])\n",
    "                                                                       "
   ]
  },
  {
   "cell_type": "code",
   "execution_count": 10,
   "id": "ff18d2de",
   "metadata": {
    "ExecuteTime": {
     "end_time": "2022-08-24T19:07:23.136108Z",
     "start_time": "2022-08-24T19:07:23.124203Z"
    },
    "scrolled": false
   },
   "outputs": [],
   "source": [
    "def dividir_cardapio(pessoa):\n",
    "    \"\"\"função responsável por dividir o cardapio do usuario selecionado para facilitar a visualização\"\"\"\n",
    "    global lista_pessoas\n",
    "    cardapio_separado = lista_pessoas[pessoa]['Tabela_Cardapio']\n",
    "    cardapio_separado = cardapio_separado[['Energia (kcal)','Proteína (g)','Lipídeos (g)','Carboidrato (g)','Fibra Alimentar (g)','Refeição']].groupby(['Refeição']).sum()\n",
    "    cardapio_separado = cardapio_separado.round(1)\n",
    "    display(cardapio_separado)"
   ]
  },
  {
   "cell_type": "code",
   "execution_count": 11,
   "id": "0e09f470",
   "metadata": {
    "ExecuteTime": {
     "end_time": "2022-08-24T19:21:04.121009Z",
     "start_time": "2022-08-24T19:21:04.110097Z"
    }
   },
   "outputs": [],
   "source": [
    "def remover_alimento_cardapio(pessoa):\n",
    "    \"\"\"função responsável por remover algum alimento do cardapio do usuário selecionado\"\"\"\n",
    "    global lista_pessoas\n",
    "    display(lista_pessoas[pessoa]['Tabela_Cardapio'])\n",
    "    remover = int(input('Deseja o número do indice do alimento que deseja remover: '))\n",
    "    lista_pessoas[pessoa]['Tabela_Cardapio'] = lista_pessoas[pessoa]['Tabela_Cardapio'].drop(remover, axis=0)\n",
    "    print('Item removido com sucesso')\n",
    "    display(tabela_cardapio)"
   ]
  },
  {
   "cell_type": "markdown",
   "id": "31e52822",
   "metadata": {},
   "source": [
    "##                     ========== Usuários ==========\n",
    ">criar uma variável para armazenar informações do \"paciente\"  \n",
    ">>[x] nome  \n",
    ">>[x] sexo  \n",
    ">>[x] peso  \n",
    ">>[x] altura  \n",
    ">>[x] idade  \n",
    ">>[x] FA (Fator de atividade fisica) - explicar o que é  \n",
    ">>[x] GCD (gasto calorico diário)  \n",
    ">[x] Adicionar todos os dados à um dicionário  \n",
    ">[x] adicionar dicionário à lista  \n",
    ">[X] linkar isso com a tabela_cardapio e fazer os calculos  \n",
    "\n",
    "=================================================================  \n",
    "[1] Visualizar Usuários  \n",
    "    [1] Visualizar Detalhes de Usuário  \n",
    "    [2] Adicionar Novo Usuário  \n",
    "    [3] Atualizar Usuário  \n",
    "    [4] Remover Usuário  \n",
    "    [5] Voltar  \n",
    "[2] Voltar  "
   ]
  },
  {
   "cell_type": "code",
   "execution_count": 12,
   "id": "da5d8ffa",
   "metadata": {},
   "outputs": [],
   "source": [
    "def colher_informações():\n",
    "    \"\"\"função responsável por colher as informações de um novo usuário e criar um dicionário com elas,\n",
    "    retornando tal dicionário\"\"\"\n",
    "    from datetime import date\n",
    "    pessoa = dict()\n",
    "    sexo = ' '\n",
    "\n",
    "    FA = 0\n",
    "    pessoa['Nome'] = str(input('Nome Completo: ')).strip().title()\n",
    "    while sexo not in 'MF': \n",
    "        sexo = str(input('Sexo [M/F]: ')).strip().upper()[0]\n",
    "        if sexo not in 'MF': \n",
    "            print('Informação inválida, por favor responda novamente')\n",
    "    pessoa['Sexo'] = sexo\n",
    "    pessoa['Peso'] = float(input('Peso, em kg: '))\n",
    "    pessoa['Altura'] = float(input('Altura, em cm: '))\n",
    "    print('data de nascimento: ')\n",
    "    dia_bday = int(input('dia: '))\n",
    "    mes_bday = int(input('mês: '))\n",
    "    ano_bday = int(input('ano: '))\n",
    "    pessoa['Data_Nascimento'] = date(ano_bday, mes_bday, dia_bday)\n",
    "    pessoa['Idade'] = calcular_idade(pessoa['Data_Nascimento'])\n",
    "    while FA not in range(1,5):\n",
    "        print('''         Fator de Atividade (FA):\n",
    "        [1] sedentário\n",
    "        [2] levemente ativo\n",
    "        [3] treino e cardio iniciante a intermediário quase todos os dias com rotina de pouca atividade\n",
    "        [4] treino e cardio avançado ou extremamente avançado com rotina de pouca atividade\n",
    "        [5] treino e cardio avançado ou extremamente avançado com rotina de muita atividade ou hormonizado\n",
    "        ''')\n",
    "        FA = float(input('Fator de Atividade: '))\n",
    "        if FA == 1:\n",
    "            pessoa['Fator_Atividade'] = 1.3\n",
    "        elif FA == 2:\n",
    "            pessoa['Fator_Atividade'] = 1.4\n",
    "        elif FA == 3:\n",
    "            pessoa['Fator_Atividade'] = 1.5\n",
    "        elif FA == 4:\n",
    "            pessoa['Fator_Atividade'] = 1.6\n",
    "        elif FA == 5:\n",
    "            pessoa['Fator_Atividade'] = 1.7\n",
    "        else:\n",
    "            print('Opção inválida')\n",
    "            continue\n",
    "    if sexo == 'F':\n",
    "        pessoa['GCD'] = f'{(pessoa[\"Fator_Atividade\"]*(655.09+(9.563*pessoa[\"Peso\"])+(1.85*pessoa[\"Altura\"])-(4.676*pessoa[\"Idade\"]))):.2f}'\n",
    "    elif sexo == 'M': \n",
    "        pessoa['GCD'] = f'{(pessoa[\"Fator_Atividade\"]*(66.47+(13.75*pessoa[\"Peso\"])+(5.0*pessoa[\"Altura\"])-(6.8*pessoa[\"Idade\"]))):.2f}'  \n",
    "    \n",
    "    pessoa['Tabela_Cardapio'] = pd.DataFrame()\n",
    "    pessoa['Tabela_Cardapio'] = pd.concat([pessoa['Tabela_Cardapio'], tabela_cardapio], ignore_index = True)\n",
    "    \n",
    "    return pessoa        "
   ]
  },
  {
   "cell_type": "code",
   "execution_count": 13,
   "id": "8a323916",
   "metadata": {},
   "outputs": [],
   "source": [
    "def visualizar_usuários():\n",
    "    \"\"\"função responsável por mostrar uma lista com todos os usuários cadastrados\"\"\"\n",
    "    global lista_pessoas\n",
    "    if len(lista_pessoas) != 0:\n",
    "        pessoas_DF = pd.DataFrame(lista_pessoas)\n",
    "        display(pessoas_DF[['Nome', 'Peso', 'Altura', 'Idade', 'GCD']])\n",
    "    else:\n",
    "        print('Nenhum usuário cadastrado.')"
   ]
  },
  {
   "cell_type": "code",
   "execution_count": 14,
   "id": "bcc59d41",
   "metadata": {},
   "outputs": [],
   "source": [
    "def detalhar_usuário():\n",
    "    \"\"\"função responsável por mostrar melhor os dados do usuário selecionado\"\"\"\n",
    "    global lista_pessoas\n",
    "    visualizar_usuários()\n",
    "    escolha = int(input('Digite o código do usuário: '))\n",
    "    pessoas_DF = pd.DataFrame(lista_pessoas)\n",
    "    display(pessoas_DF.loc[escolha])"
   ]
  },
  {
   "cell_type": "code",
   "execution_count": 15,
   "id": "2bf0c71b",
   "metadata": {},
   "outputs": [],
   "source": [
    "def atualizar_usuário():\n",
    "    \"\"\"função responsável por atualizar o usuário selecionado\"\"\"\n",
    "    global lista_pessoas\n",
    "    from datetime import date\n",
    "    FA = 0\n",
    "    visualizar_usuários()\n",
    "    escolha = int(input('Digite o código do usuário: '))\n",
    "    print(f'Editando {lista_pessoas[escolha][\"nome\"]}')\n",
    "    lista_pessoas[escolha]['Idade'] = calcular_idade(lista_pessoas[escolha]['Data_Nascimento'])\n",
    "    lista_pessoas[escolha]['Peso'] = float(input('Peso, em kg: '))\n",
    "    lista_pessoas[escolha]['Altura'] = float(input('Altura, em cm: '))\n",
    "    while FA not in range(1,5):\n",
    "        print('''         Fator de Atividade (FA):\n",
    "        [1] sedentário\n",
    "        [2] levemente ativo\n",
    "        [3] treino e cardio iniciante a intermediário quase todos os dias com rotina de pouca atividade\n",
    "        [4] treino e cardio avançado ou extremamente avançado com rotina de pouca atividade\n",
    "        [5] treino e cardio avançado ou extremamente avançado com rotina de muita atividade ou hormonizado\n",
    "        ''')\n",
    "        FA = float(input('Fator de Atividade: '))\n",
    "        if FA == 1:\n",
    "            lista_pessoas[escolha]['Fator_Atividade'] = 1.3\n",
    "        elif FA == 2:\n",
    "            lista_pessoas[escolha]['Fator_Atividade'] = 1.4\n",
    "        elif FA == 3:\n",
    "            lista_pessoas[escolha]['Fator_Atividade'] = 1.5\n",
    "        elif FA == 4:\n",
    "            lista_pessoas[escolha]['Fator_Atividade'] = 1.6\n",
    "        elif FA == 5:\n",
    "            lista_pessoas[escolha]['Fator_Atividade'] = 1.7\n",
    "        else:\n",
    "            print('Opção inválida')\n",
    "            continue\n",
    "    \n",
    "    if lista_pessoas[escolha]['sexo'] == 'F':\n",
    "        lista_pessoas[escolha]['GCD'] = f'{(lista_pessoas[escolha][\"Fator_Atividade\"]*(655.09+(9.563*lista_pessoas[escolha][\"Peso\"])+(1.85*lista_pessoas[escolha][\"Altura\"])-(4.676*lista_pessoas[escolha][\"Idade\"]))):.2f}'\n",
    "    elif lista_pessoas[escolha]['sexo'] == 'M': \n",
    "        lista_pessoas[escolha]['GCD'] = f'{(lista_pessoas[escolha][\"Fator_Atividade\"]*(66.47+(13.75*lista_pessoas[escolha][\"Peso\"])+(5.0*lista_pessoas[escolha][\"Altura\"])-(6.8*lista_pessoas[escolha][\"Idade\"]))):.2f}'  "
   ]
  },
  {
   "cell_type": "code",
   "execution_count": 16,
   "id": "bf249c95",
   "metadata": {},
   "outputs": [],
   "source": [
    "def remover_usuário():\n",
    "    \"\"\"função responsável por remover o usuário selecionado\"\"\"\n",
    "    global lista_pessoas\n",
    "    visualizar_usuários()\n",
    "    escolha = int(input('Digite o código do usuário: '))\n",
    "    lista_pessoas.pop(escolha)"
   ]
  },
  {
   "cell_type": "markdown",
   "id": "57cd13cc",
   "metadata": {},
   "source": [
    "##                     ========== MENU ==========\n",
    ">[X] aparecer menu na tela com as opções:  \n",
    ">>    [X] Alimentos:  \n",
    ">>>       [X] Pesquisar Alimento  \n",
    ">>>       [X] Adicionar Alimento  \n",
    ">>>       [X] Remover Alimento  \n",
    ">>>       [X] Voltar\n",
    "\n",
    ">>    [X] Meu Cardapio:  \n",
    ">>>       [X] Visualizar Refeições  \n",
    ">>>       [X] Adicionar Alimento à refeições   \n",
    ">>>       [X] Remover Alimento de refeições   \n",
    ">>>       [X] Voltar\n",
    "\n",
    ">>    [X] Usuários   \n",
    ">>>       [1] Visualizar Detalhes de Usuário  \n",
    ">>>       [2] Adicionar Novo Usuário  \n",
    ">>>       [3] Atualizar Usuário  \n",
    ">>>       [4] Remover Usuário  \n",
    ">>>       [5] Voltar\n",
    "\n",
    ">>    [X] Encerrar Programa  "
   ]
  },
  {
   "cell_type": "code",
   "execution_count": 17,
   "id": "bbd3b3ca",
   "metadata": {
    "ExecuteTime": {
     "end_time": "2022-08-24T18:42:03.358770Z",
     "start_time": "2022-08-24T18:42:03.343395Z"
    }
   },
   "outputs": [],
   "source": [
    "def menu_primario():\n",
    "    print()\n",
    "    texto = 'Projeto Taco - v1.0'\n",
    "    print('~' * (len(texto) + 4))\n",
    "    print(f'  {texto}')\n",
    "    print('~' * (len(texto) + 4))\n",
    "    print('''\n",
    "    [1] Alimentos\n",
    "    [2] Cardapios\n",
    "    [3] Usuários\n",
    "    [4] Salvar\n",
    "    [5] Encerrar Programa\n",
    "    ''')\n",
    "    opção = int(input('Digite a opção desejada: '))\n",
    "    if opção not in range(1,5):\n",
    "        print('opção inválida')\n",
    "    else:\n",
    "        return opção"
   ]
  },
  {
   "cell_type": "code",
   "execution_count": 18,
   "id": "f9a2196d",
   "metadata": {
    "ExecuteTime": {
     "end_time": "2022-08-24T18:42:04.204449Z",
     "start_time": "2022-08-24T18:42:04.190065Z"
    }
   },
   "outputs": [],
   "source": [
    "def menu_alimentos():\n",
    "    print()\n",
    "    texto = 'Menu: Alimentos'\n",
    "    print('~' * (len(texto) + 4))\n",
    "    print(f'  {texto}')\n",
    "    print('~' * (len(texto) + 4))\n",
    "    print('''\n",
    "    [1] Pesquisar Alimento\n",
    "    [2] Adicionar Alimento\n",
    "    [3] Remover Alimento\n",
    "    [4] Voltar\n",
    "    ''')\n",
    "    opção = int(input('Digite a opção desejada: '))\n",
    "    if opção not in range(1,5):\n",
    "        print('opção inválida')\n",
    "    else:\n",
    "        return opção"
   ]
  },
  {
   "cell_type": "code",
   "execution_count": 19,
   "id": "06ddd4b8",
   "metadata": {
    "ExecuteTime": {
     "end_time": "2022-08-24T18:42:04.988625Z",
     "start_time": "2022-08-24T18:42:04.970273Z"
    }
   },
   "outputs": [],
   "source": [
    "def menu_cardápio():\n",
    "    global lista_pessoas\n",
    "    global pessoa\n",
    "    visualizar_usuários()\n",
    "    pessoa = int(input('Cardapio de qual usuário deseja visualizar? '))\n",
    "    print()\n",
    "    texto = f'Cardápio de {lista_pessoas[pessoa][\"Nome\"]}'\n",
    "    print('~' * (len(texto) + 4))\n",
    "    print(f'  {texto}')\n",
    "    print('~' * (len(texto) + 4))\n",
    "    print('''\n",
    "    [1] Visualizar Cardápio\n",
    "    [2] Adicionar Alimento ao Cardápio\n",
    "    [3] Remover Alimento do Cardápio\n",
    "    [4] Voltar\n",
    "    ''')\n",
    "    opção = int(input('Digite a opção desejada: '))\n",
    "    if opção not in range(1,5):\n",
    "        print('opção inválida')\n",
    "    else:\n",
    "        return opção"
   ]
  },
  {
   "cell_type": "code",
   "execution_count": 20,
   "id": "46741de5",
   "metadata": {},
   "outputs": [],
   "source": [
    "def menu_usuário():\n",
    "    print()\n",
    "    texto = 'Menu: Usuários'\n",
    "    print('~' * (len(texto) + 4))\n",
    "    print(f'  {texto}')\n",
    "    print('~' * (len(texto) + 4))\n",
    "    print()\n",
    "    visualizar_usuários()\n",
    "    print()\n",
    "    print('''\n",
    "    [1] Visualizar Detalhes de Usuário\n",
    "    [2] Adicionar Novo Usuário\n",
    "    [3] Atualizar Usuário\n",
    "    [4] Remover Usuário\n",
    "    [5] Voltar\n",
    "    ''')\n",
    "    opção = int(input('Digite a opção desejada: '))\n",
    "    if opção not in range(1,6):\n",
    "        print('opção inválida')\n",
    "    else:\n",
    "        return opção"
   ]
  },
  {
   "cell_type": "markdown",
   "id": "b0885073",
   "metadata": {},
   "source": [
    "## MAIN PROGRAM"
   ]
  },
  {
   "cell_type": "code",
   "execution_count": 31,
   "id": "7135d989",
   "metadata": {
    "ExecuteTime": {
     "start_time": "2022-08-24T19:21:06.495Z"
    },
    "scrolled": true
   },
   "outputs": [
    {
     "name": "stdout",
     "output_type": "stream",
     "text": [
      "\n",
      "~~~~~~~~~~~~~~~~~~~~~~~\n",
      "  Projeto Taco - v1.0\n",
      "~~~~~~~~~~~~~~~~~~~~~~~\n",
      "\n",
      "    [1] Alimentos\n",
      "    [2] Cardapios\n",
      "    [3] Usuários\n",
      "    [4] Salvar\n",
      "    [5] Encerrar Programa\n",
      "    \n",
      "Digite a opção desejada: 3\n",
      "\n",
      "~~~~~~~~~~~~~~~~~~\n",
      "  Menu: Usuários\n",
      "~~~~~~~~~~~~~~~~~~\n",
      "\n"
     ]
    },
    {
     "data": {
      "text/html": [
       "<div>\n",
       "<style scoped>\n",
       "    .dataframe tbody tr th:only-of-type {\n",
       "        vertical-align: middle;\n",
       "    }\n",
       "\n",
       "    .dataframe tbody tr th {\n",
       "        vertical-align: top;\n",
       "    }\n",
       "\n",
       "    .dataframe thead th {\n",
       "        text-align: right;\n",
       "    }\n",
       "</style>\n",
       "<table border=\"1\" class=\"dataframe\">\n",
       "  <thead>\n",
       "    <tr style=\"text-align: right;\">\n",
       "      <th></th>\n",
       "      <th>Nome</th>\n",
       "      <th>Peso</th>\n",
       "      <th>Altura</th>\n",
       "      <th>Idade</th>\n",
       "      <th>GCD</th>\n",
       "    </tr>\n",
       "  </thead>\n",
       "  <tbody>\n",
       "    <tr>\n",
       "      <th>0</th>\n",
       "      <td>Rafael Pagliarin</td>\n",
       "      <td>103.0</td>\n",
       "      <td>183.0</td>\n",
       "      <td>30</td>\n",
       "      <td>3290.58</td>\n",
       "    </tr>\n",
       "  </tbody>\n",
       "</table>\n",
       "</div>"
      ],
      "text/plain": [
       "               Nome   Peso  Altura  Idade      GCD\n",
       "0  Rafael Pagliarin  103.0   183.0     30  3290.58"
      ]
     },
     "metadata": {},
     "output_type": "display_data"
    },
    {
     "name": "stdout",
     "output_type": "stream",
     "text": [
      "\n",
      "\n",
      "    [1] Visualizar Detalhes de Usuário\n",
      "    [2] Adicionar Novo Usuário\n",
      "    [3] Atualizar Usuário\n",
      "    [4] Remover Usuário\n",
      "    [5] Voltar\n",
      "    \n",
      "Digite a opção desejada: 2\n",
      "Nome Completo: Luis Felipe\n",
      "Sexo [M/F]: M\n",
      "Peso, em kg: 80\n",
      "Altura, em cm: 191\n",
      "data de nascimento: \n",
      "dia: 25\n",
      "mês: 02\n",
      "ano: 1983\n",
      "         Fator de Atividade (FA):\n",
      "        [1] sedentário\n",
      "        [2] levemente ativo\n",
      "        [3] treino e cardio iniciante a intermediário quase todos os dias com rotina de pouca atividade\n",
      "        [4] treino e cardio avançado ou extremamente avançado com rotina de pouca atividade\n",
      "        [5] treino e cardio avançado ou extremamente avançado com rotina de muita atividade ou hormonizado\n",
      "        \n",
      "Fator de Atividade: 2\n",
      "\n",
      "~~~~~~~~~~~~~~~~~~\n",
      "  Menu: Usuários\n",
      "~~~~~~~~~~~~~~~~~~\n",
      "\n"
     ]
    },
    {
     "data": {
      "text/html": [
       "<div>\n",
       "<style scoped>\n",
       "    .dataframe tbody tr th:only-of-type {\n",
       "        vertical-align: middle;\n",
       "    }\n",
       "\n",
       "    .dataframe tbody tr th {\n",
       "        vertical-align: top;\n",
       "    }\n",
       "\n",
       "    .dataframe thead th {\n",
       "        text-align: right;\n",
       "    }\n",
       "</style>\n",
       "<table border=\"1\" class=\"dataframe\">\n",
       "  <thead>\n",
       "    <tr style=\"text-align: right;\">\n",
       "      <th></th>\n",
       "      <th>Nome</th>\n",
       "      <th>Peso</th>\n",
       "      <th>Altura</th>\n",
       "      <th>Idade</th>\n",
       "      <th>GCD</th>\n",
       "    </tr>\n",
       "  </thead>\n",
       "  <tbody>\n",
       "    <tr>\n",
       "      <th>0</th>\n",
       "      <td>Rafael Pagliarin</td>\n",
       "      <td>103.0</td>\n",
       "      <td>183.0</td>\n",
       "      <td>30</td>\n",
       "      <td>3290.58</td>\n",
       "    </tr>\n",
       "    <tr>\n",
       "      <th>1</th>\n",
       "      <td>Luis Felipe</td>\n",
       "      <td>80.0</td>\n",
       "      <td>191.0</td>\n",
       "      <td>39</td>\n",
       "      <td>2598.78</td>\n",
       "    </tr>\n",
       "  </tbody>\n",
       "</table>\n",
       "</div>"
      ],
      "text/plain": [
       "               Nome   Peso  Altura  Idade      GCD\n",
       "0  Rafael Pagliarin  103.0   183.0     30  3290.58\n",
       "1       Luis Felipe   80.0   191.0     39  2598.78"
      ]
     },
     "metadata": {},
     "output_type": "display_data"
    },
    {
     "name": "stdout",
     "output_type": "stream",
     "text": [
      "\n",
      "\n",
      "    [1] Visualizar Detalhes de Usuário\n",
      "    [2] Adicionar Novo Usuário\n",
      "    [3] Atualizar Usuário\n",
      "    [4] Remover Usuário\n",
      "    [5] Voltar\n",
      "    \n"
     ]
    },
    {
     "ename": "KeyboardInterrupt",
     "evalue": "Interrupted by user",
     "output_type": "error",
     "traceback": [
      "\u001b[1;31m---------------------------------------------------------------------------\u001b[0m",
      "\u001b[1;31mKeyboardInterrupt\u001b[0m                         Traceback (most recent call last)",
      "Input \u001b[1;32mIn [31]\u001b[0m, in \u001b[0;36m<cell line: 2>\u001b[1;34m()\u001b[0m\n\u001b[0;32m     35\u001b[0m \u001b[38;5;28;01melif\u001b[39;00m escolha \u001b[38;5;241m==\u001b[39m \u001b[38;5;241m3\u001b[39m: \u001b[38;5;66;03m#menu usuário\u001b[39;00m\n\u001b[0;32m     36\u001b[0m     \u001b[38;5;28;01mwhile\u001b[39;00m \u001b[38;5;28;01mTrue\u001b[39;00m:\n\u001b[1;32m---> 37\u001b[0m         escolha_2 \u001b[38;5;241m=\u001b[39m \u001b[43mmenu_usuário\u001b[49m\u001b[43m(\u001b[49m\u001b[43m)\u001b[49m \u001b[38;5;66;03m#menu usuario\u001b[39;00m\n\u001b[0;32m     38\u001b[0m         \u001b[38;5;28;01mif\u001b[39;00m escolha_2 \u001b[38;5;241m==\u001b[39m \u001b[38;5;241m1\u001b[39m: \u001b[38;5;66;03m#visualizar detalhes de usuário\u001b[39;00m\n\u001b[0;32m     39\u001b[0m             \u001b[38;5;28;01mif\u001b[39;00m \u001b[38;5;28mlen\u001b[39m(lista_pessoas) \u001b[38;5;241m==\u001b[39m \u001b[38;5;241m0\u001b[39m:\n",
      "Input \u001b[1;32mIn [20]\u001b[0m, in \u001b[0;36mmenu_usuário\u001b[1;34m()\u001b[0m\n\u001b[0;32m      9\u001b[0m \u001b[38;5;28mprint\u001b[39m()\n\u001b[0;32m     10\u001b[0m \u001b[38;5;28mprint\u001b[39m(\u001b[38;5;124m'''\u001b[39m\n\u001b[0;32m     11\u001b[0m \u001b[38;5;124m[1] Visualizar Detalhes de Usuário\u001b[39m\n\u001b[0;32m     12\u001b[0m \u001b[38;5;124m[2] Adicionar Novo Usuário\u001b[39m\n\u001b[1;32m   (...)\u001b[0m\n\u001b[0;32m     15\u001b[0m \u001b[38;5;124m[5] Voltar\u001b[39m\n\u001b[0;32m     16\u001b[0m \u001b[38;5;124m\u001b[39m\u001b[38;5;124m'''\u001b[39m)\n\u001b[1;32m---> 17\u001b[0m opção \u001b[38;5;241m=\u001b[39m \u001b[38;5;28mint\u001b[39m(\u001b[38;5;28;43minput\u001b[39;49m\u001b[43m(\u001b[49m\u001b[38;5;124;43m'\u001b[39;49m\u001b[38;5;124;43mDigite a opção desejada: \u001b[39;49m\u001b[38;5;124;43m'\u001b[39;49m\u001b[43m)\u001b[49m)\n\u001b[0;32m     18\u001b[0m \u001b[38;5;28;01mif\u001b[39;00m opção \u001b[38;5;129;01mnot\u001b[39;00m \u001b[38;5;129;01min\u001b[39;00m \u001b[38;5;28mrange\u001b[39m(\u001b[38;5;241m1\u001b[39m,\u001b[38;5;241m6\u001b[39m):\n\u001b[0;32m     19\u001b[0m     \u001b[38;5;28mprint\u001b[39m(\u001b[38;5;124m'\u001b[39m\u001b[38;5;124mopção inválida\u001b[39m\u001b[38;5;124m'\u001b[39m)\n",
      "File \u001b[1;32m~\\anaconda3\\lib\\site-packages\\ipykernel\\kernelbase.py:1075\u001b[0m, in \u001b[0;36mKernel.raw_input\u001b[1;34m(self, prompt)\u001b[0m\n\u001b[0;32m   1071\u001b[0m \u001b[38;5;28;01mif\u001b[39;00m \u001b[38;5;129;01mnot\u001b[39;00m \u001b[38;5;28mself\u001b[39m\u001b[38;5;241m.\u001b[39m_allow_stdin:\n\u001b[0;32m   1072\u001b[0m     \u001b[38;5;28;01mraise\u001b[39;00m StdinNotImplementedError(\n\u001b[0;32m   1073\u001b[0m         \u001b[38;5;124m\"\u001b[39m\u001b[38;5;124mraw_input was called, but this frontend does not support input requests.\u001b[39m\u001b[38;5;124m\"\u001b[39m\n\u001b[0;32m   1074\u001b[0m     )\n\u001b[1;32m-> 1075\u001b[0m \u001b[38;5;28;01mreturn\u001b[39;00m \u001b[38;5;28;43mself\u001b[39;49m\u001b[38;5;241;43m.\u001b[39;49m\u001b[43m_input_request\u001b[49m\u001b[43m(\u001b[49m\n\u001b[0;32m   1076\u001b[0m \u001b[43m    \u001b[49m\u001b[38;5;28;43mstr\u001b[39;49m\u001b[43m(\u001b[49m\u001b[43mprompt\u001b[49m\u001b[43m)\u001b[49m\u001b[43m,\u001b[49m\n\u001b[0;32m   1077\u001b[0m \u001b[43m    \u001b[49m\u001b[38;5;28;43mself\u001b[39;49m\u001b[38;5;241;43m.\u001b[39;49m\u001b[43m_parent_ident\u001b[49m\u001b[43m[\u001b[49m\u001b[38;5;124;43m\"\u001b[39;49m\u001b[38;5;124;43mshell\u001b[39;49m\u001b[38;5;124;43m\"\u001b[39;49m\u001b[43m]\u001b[49m\u001b[43m,\u001b[49m\n\u001b[0;32m   1078\u001b[0m \u001b[43m    \u001b[49m\u001b[38;5;28;43mself\u001b[39;49m\u001b[38;5;241;43m.\u001b[39;49m\u001b[43mget_parent\u001b[49m\u001b[43m(\u001b[49m\u001b[38;5;124;43m\"\u001b[39;49m\u001b[38;5;124;43mshell\u001b[39;49m\u001b[38;5;124;43m\"\u001b[39;49m\u001b[43m)\u001b[49m\u001b[43m,\u001b[49m\n\u001b[0;32m   1079\u001b[0m \u001b[43m    \u001b[49m\u001b[43mpassword\u001b[49m\u001b[38;5;241;43m=\u001b[39;49m\u001b[38;5;28;43;01mFalse\u001b[39;49;00m\u001b[43m,\u001b[49m\n\u001b[0;32m   1080\u001b[0m \u001b[43m\u001b[49m\u001b[43m)\u001b[49m\n",
      "File \u001b[1;32m~\\anaconda3\\lib\\site-packages\\ipykernel\\kernelbase.py:1120\u001b[0m, in \u001b[0;36mKernel._input_request\u001b[1;34m(self, prompt, ident, parent, password)\u001b[0m\n\u001b[0;32m   1117\u001b[0m             \u001b[38;5;28;01mbreak\u001b[39;00m\n\u001b[0;32m   1118\u001b[0m \u001b[38;5;28;01mexcept\u001b[39;00m \u001b[38;5;167;01mKeyboardInterrupt\u001b[39;00m:\n\u001b[0;32m   1119\u001b[0m     \u001b[38;5;66;03m# re-raise KeyboardInterrupt, to truncate traceback\u001b[39;00m\n\u001b[1;32m-> 1120\u001b[0m     \u001b[38;5;28;01mraise\u001b[39;00m \u001b[38;5;167;01mKeyboardInterrupt\u001b[39;00m(\u001b[38;5;124m\"\u001b[39m\u001b[38;5;124mInterrupted by user\u001b[39m\u001b[38;5;124m\"\u001b[39m) \u001b[38;5;28;01mfrom\u001b[39;00m \u001b[38;5;28mNone\u001b[39m\n\u001b[0;32m   1121\u001b[0m \u001b[38;5;28;01mexcept\u001b[39;00m \u001b[38;5;167;01mException\u001b[39;00m:\n\u001b[0;32m   1122\u001b[0m     \u001b[38;5;28mself\u001b[39m\u001b[38;5;241m.\u001b[39mlog\u001b[38;5;241m.\u001b[39mwarning(\u001b[38;5;124m\"\u001b[39m\u001b[38;5;124mInvalid Message:\u001b[39m\u001b[38;5;124m\"\u001b[39m, exc_info\u001b[38;5;241m=\u001b[39m\u001b[38;5;28;01mTrue\u001b[39;00m)\n",
      "\u001b[1;31mKeyboardInterrupt\u001b[0m: Interrupted by user"
     ]
    }
   ],
   "source": [
    "while True:\n",
    "    continuar = True\n",
    "    escolha = menu_primario() #menu principal - escolher uma entre 4 opções\n",
    "    if escolha == 1: #menu alimentos\n",
    "        while True:\n",
    "            escolha_2 = menu_alimentos()\n",
    "            if escolha_2 == 1: #pesquisar alimento\n",
    "                while continuar == True:\n",
    "                    display(procurar_alimento(str(input('Deseja procurar qual alimento: ' )).strip().lower()))\n",
    "                    continuar = checar_continuidade()              \n",
    "            elif escolha_2 == 2: #adicionar alimento\n",
    "                while continuar == True:\n",
    "                    adicionar_alimento()\n",
    "                    continuar = checar_continuidade()\n",
    "            elif escolha_2 == 3: #voltar\n",
    "                while continuar == True:\n",
    "                    remover_alimento_taco(str(input('Deseja procurar qual alimento: ' )).strip().lower())\n",
    "                    continuar = checar_continuidade()\n",
    "            else:\n",
    "                break\n",
    "    elif escolha == 2: #menu cardapio\n",
    "        while True:\n",
    "            escolha_2 = menu_cardápio()\n",
    "            if escolha_2 == 1: #visualizar cardapio\n",
    "                display(lista_pessoas[pessoa]['Tabela_Cardapio'])\n",
    "                dividir_cardapio(pessoa)\n",
    "            elif escolha_2 == 2: #adicionar alimento ao cardapio\n",
    "                while continuar == True:\n",
    "                    puxar_alimento(str(input('Deseja procurar qual alimento: ' )).strip().lower(), pessoa)\n",
    "                    continuar = checar_continuidade()\n",
    "            elif escolha_2 == 3:\n",
    "                remover_alimento_cardapio(pessoa)\n",
    "            else:\n",
    "                break\n",
    "    elif escolha == 3: #menu usuário\n",
    "        while True:\n",
    "            escolha_2 = menu_usuário() #menu usuario\n",
    "            if escolha_2 == 1: #visualizar detalhes de usuário\n",
    "                if len(lista_pessoas) == 0:\n",
    "                    continue\n",
    "                else:\n",
    "                    detalhar_usuário() \n",
    "            elif escolha_2 == 2: #adicionar novo usuário\n",
    "                lista_pessoas.append(colher_informações())\n",
    "            elif escolha_2 == 3: # atualizar usuário existente\n",
    "                atualizar_usuário()\n",
    "            elif escolha_2 == 4: # remover usuário\n",
    "                remover_usuário()\n",
    "            elif escolha_2 == 5: # voltar\n",
    "                break\n",
    "    elif escolha == 4: #salvar arquivos\n",
    "        for v, k in enumerate(lista_pessoas):\n",
    "            k['Tabela_Cardapio'].to_excel(f\"{k['Nome']}.xlsx\")\n",
    "        lista_pessoas.to_excel\n",
    "    elif escolha == 5: #encerrar programa    \n",
    "        print('\\n Encerrando programa')\n",
    "        break\n",
    "    else:\n",
    "        print('Opção inválida')\n",
    "        continue"
   ]
  },
  {
   "cell_type": "code",
   "execution_count": 22,
   "id": "dab42904",
   "metadata": {},
   "outputs": [
    {
     "name": "stdout",
     "output_type": "stream",
     "text": [
      "Cardápio de Rafael Pagliarin\n"
     ]
    },
    {
     "data": {
      "text/html": [
       "<div>\n",
       "<style scoped>\n",
       "    .dataframe tbody tr th:only-of-type {\n",
       "        vertical-align: middle;\n",
       "    }\n",
       "\n",
       "    .dataframe tbody tr th {\n",
       "        vertical-align: top;\n",
       "    }\n",
       "\n",
       "    .dataframe thead th {\n",
       "        text-align: right;\n",
       "    }\n",
       "</style>\n",
       "<table border=\"1\" class=\"dataframe\">\n",
       "  <thead>\n",
       "    <tr style=\"text-align: right;\">\n",
       "      <th></th>\n",
       "      <th>Descrição dos alimentos</th>\n",
       "      <th>Energia (kcal)</th>\n",
       "      <th>Proteína (g)</th>\n",
       "      <th>Lipídeos (g)</th>\n",
       "      <th>Carboidrato (g)</th>\n",
       "      <th>Fibra Alimentar (g)</th>\n",
       "      <th>Quantidade</th>\n",
       "      <th>Refeição</th>\n",
       "    </tr>\n",
       "  </thead>\n",
       "  <tbody>\n",
       "    <tr>\n",
       "      <th>0</th>\n",
       "      <td>Arroz, integral, cozido</td>\n",
       "      <td>306.4875</td>\n",
       "      <td>6.470625</td>\n",
       "      <td>2.500833</td>\n",
       "      <td>64.524375</td>\n",
       "      <td>6.873333</td>\n",
       "      <td>250.0</td>\n",
       "      <td>Almoço</td>\n",
       "    </tr>\n",
       "    <tr>\n",
       "      <th>1</th>\n",
       "      <td>Brócolis, cozido</td>\n",
       "      <td>45.1965</td>\n",
       "      <td>3.2</td>\n",
       "      <td>0.6885</td>\n",
       "      <td>6.55</td>\n",
       "      <td>5.125</td>\n",
       "      <td>150.0</td>\n",
       "      <td>Almoço</td>\n",
       "    </tr>\n",
       "  </tbody>\n",
       "</table>\n",
       "</div>"
      ],
      "text/plain": [
       "   Descrição dos alimentos Energia (kcal) Proteína (g) Lipídeos (g)  \\\n",
       "0  Arroz, integral, cozido       306.4875     6.470625     2.500833   \n",
       "1         Brócolis, cozido        45.1965          3.2       0.6885   \n",
       "\n",
       "  Carboidrato (g) Fibra Alimentar (g) Quantidade Refeição  \n",
       "0       64.524375            6.873333      250.0   Almoço  \n",
       "1            6.55               5.125      150.0   Almoço  "
      ]
     },
     "metadata": {},
     "output_type": "display_data"
    }
   ],
   "source": [
    "for v, k in enumerate(lista_pessoas):\n",
    "    print(f'Cardápio de {k[\"Nome\"]}')\n",
    "    display(k['Tabela_Cardapio'])"
   ]
  },
  {
   "cell_type": "code",
   "execution_count": null,
   "id": "e0ca532b",
   "metadata": {},
   "outputs": [],
   "source": []
  }
 ],
 "metadata": {
  "kernelspec": {
   "display_name": "Python 3 (ipykernel)",
   "language": "python",
   "name": "python3"
  },
  "language_info": {
   "codemirror_mode": {
    "name": "ipython",
    "version": 3
   },
   "file_extension": ".py",
   "mimetype": "text/x-python",
   "name": "python",
   "nbconvert_exporter": "python",
   "pygments_lexer": "ipython3",
   "version": "3.9.12"
  }
 },
 "nbformat": 4,
 "nbformat_minor": 5
}
