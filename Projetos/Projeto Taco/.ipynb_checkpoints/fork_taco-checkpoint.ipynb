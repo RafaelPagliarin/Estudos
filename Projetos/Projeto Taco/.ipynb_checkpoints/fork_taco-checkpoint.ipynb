{
 "cells": [
  {
   "cell_type": "code",
   "execution_count": 1,
   "id": "1d4796d3",
   "metadata": {},
   "outputs": [],
   "source": [
    "import pandas as pd"
   ]
  },
  {
   "cell_type": "code",
   "execution_count": null,
   "id": "c8f3072e",
   "metadata": {},
   "outputs": [],
   "source": [
    "tabela_taco = pd.read_excel('Tabela_Taco.xlsx')        \n",
    "tabela_cardapio = pd.read_excel('Cardapio.xlsx')"
   ]
  },
  {
   "cell_type": "code",
   "execution_count": null,
   "id": "3d888a0a",
   "metadata": {},
   "outputs": [],
   "source": [
    "display(tabela_cardapio)"
   ]
  },
  {
   "cell_type": "code",
   "execution_count": 2,
   "id": "60f41e4f",
   "metadata": {},
   "outputs": [],
   "source": [
    "cardapio = dict()"
   ]
  },
  {
   "cell_type": "code",
   "execution_count": null,
   "id": "01814236",
   "metadata": {},
   "outputs": [],
   "source": [
    "tabela_cardapio = pd.DataFrame(cardapio, columns =\n",
    "                                ['Alimento', 'Quantidade', 'Kcal', 'Protein', 'Carbo', 'Fat'])"
   ]
  },
  {
   "cell_type": "markdown",
   "id": "42eefebe",
   "metadata": {},
   "source": [
    "## Menu do Sistema"
   ]
  },
  {
   "cell_type": "code",
   "execution_count": null,
   "id": "2375221c",
   "metadata": {},
   "outputs": [],
   "source": [
    "def Menu(msg):\n",
    "    print(\"~\" * len(msg))\n",
    "    print(msg)\n",
    "    print(\"~\" * len(msg))"
   ]
  },
  {
   "cell_type": "markdown",
   "id": "803f8726",
   "metadata": {},
   "source": [
    "## ========== TABELA ==========\n",
    "[x] procurar alimento na lista\n",
    "[x] adicionar alimento à lista\n",
    "[x] Remover alimento da lista\n",
    "[ ] atualizar alimento da lista"
   ]
  },
  {
   "cell_type": "markdown",
   "id": "d13acede",
   "metadata": {},
   "source": [
    "## PROCURAR ALIMENTO"
   ]
  },
  {
   "cell_type": "code",
   "execution_count": null,
   "id": "fdfd2c98",
   "metadata": {},
   "outputs": [],
   "source": [
    "def procurar_alimento(alimento):\n",
    "    '''função que recebe nome do alimento, procura na tabela e caso encontre adiciona em nova tabela'''\n",
    "    tabela_alimento = pd.DataFrame()\n",
    "    for name in tabela_taco['Descrição dos alimentos']:\n",
    "        if alimento in str(name).lower():\n",
    "            tabela_alimento = tabela_alimento.append(tabela_taco.loc[tabela_taco['Descrição dos alimentos'] == name])\n",
    "        \n",
    "    if tabela_alimento.shape[0] == 0:\n",
    "        print('Alimento não encontrado')\n",
    "        return None\n",
    "    else:\n",
    "        return tabela_alimento"
   ]
  },
  {
   "cell_type": "markdown",
   "id": "177093b9",
   "metadata": {},
   "source": [
    "## ADICIONAR ALIMENTO"
   ]
  },
  {
   "cell_type": "code",
   "execution_count": null,
   "id": "e63a4c91",
   "metadata": {},
   "outputs": [],
   "source": [
    "def adicionar_alimento(nome, quantidade, protein, carb, fat):\n",
    "    if quantidade == 100:    \n",
    "        energy = (protein * 4) + (carb * 4) + (fat * 9)\n",
    "    else:\n",
    "        print('Irei atualizar a tabela do alimento digitado para o padrão de 100g')\n",
    "        protein = (protein * quantidade)/100\n",
    "        carb = (carb * quantidade)/100\n",
    "        fat = (fat * quantidade)/100\n",
    "        energy = (protein * 4) + (carb * 4) + (fat * 9)\n",
    "        \n",
    "    dict_alimento = {'Descrição dos alimentos': [nome],\n",
    "                     'Energia (kcal)': energy,\n",
    "                     'Proteína (g)': protein,\n",
    "                     'Lipídeos (g)': fat,\n",
    "                     'Carboidrato (g)': carb\n",
    "    }\n",
    "    \n",
    "    add_alimento_DF = pd.DataFrame(dict_alimento)\n",
    "    display(add_alimento_DF)\n",
    "    check = ' '\n",
    "    while check not in 'SN':\n",
    "        check = str(input('Deseja adicionar esse elemento à tabela? [S/N]: ')).strip().upper()[0]\n",
    "        if check not in 'SN':\n",
    "            print('Não entendi...')\n",
    "        elif check == 'S':\n",
    "            print('Adicionando alimento...')\n",
    "            new_tabela_taco = pd.DataFrame()\n",
    "            new_tabela_taco = pd.concat([tabela_taco, add_alimento_DF], ignore_index = True, axis = 0)\n",
    "            display(new_tabela_taco)\n",
    "        else:\n",
    "            print('Alimento não adicionado.')\n",
    "            return None"
   ]
  },
  {
   "cell_type": "markdown",
   "id": "967a836d",
   "metadata": {},
   "source": [
    "## REMOVER ALIMENTO"
   ]
  },
  {
   "cell_type": "code",
   "execution_count": null,
   "id": "a082a87c",
   "metadata": {},
   "outputs": [],
   "source": [
    "def remover_alimento(nome):\n",
    "    tabela_alimento = procurar_alimento(nome)\n",
    "    display(tabela_alimento)\n",
    "    remover = int(input('Deseja o número do indice do alimento que deseja remover: '))\n",
    "    tabela_taco = tabela_taco.drop(remover, axis=0)\n",
    "    print('Item removido com sucesso')\n",
    "    display(tabela_alimento)\n",
    "        "
   ]
  },
  {
   "cell_type": "markdown",
   "id": "8360779a",
   "metadata": {},
   "source": [
    "## Testes"
   ]
  },
  {
   "cell_type": "code",
   "execution_count": null,
   "id": "91706204",
   "metadata": {},
   "outputs": [],
   "source": [
    "#teste de procurar_alimento\n",
    "alimento = str(input('Deseja procurar qual alimento: ' )).strip().lower()\n",
    "tabela_alimento = procurar_alimento(alimento)\n",
    "display(tabela_alimento)"
   ]
  },
  {
   "cell_type": "code",
   "execution_count": null,
   "id": "a213bcc6",
   "metadata": {},
   "outputs": [],
   "source": [
    "#teste de adicionar_alimento\n",
    "\n",
    "nome_alimento = input('Digite o nome do alimento: ')\n",
    "quantidade = float(input('Digite a porção, em gramas: '))\n",
    "proteina = float(input('Digite a quantidade de proteina, em gramas:'))\n",
    "gordura = float(input('Digite a quantidade de lipideos, em gramas:'))\n",
    "carboidrato = float(input('Digite a quantidade de carboidrato, em gramas:'))\n",
    "\n",
    "\n",
    "adicionar_alimento(nome_alimento, quantidade, proteina, carboidrato, gordura)"
   ]
  },
  {
   "cell_type": "code",
   "execution_count": null,
   "id": "4140f7bc",
   "metadata": {},
   "outputs": [],
   "source": [
    "alimento = str(input('Deseja procurar qual alimento: ' )).strip().lower()\n",
    "remover_alimento(alimento)"
   ]
  },
  {
   "cell_type": "code",
   "execution_count": null,
   "id": "96a25b79",
   "metadata": {},
   "outputs": [],
   "source": [
    "display(tabela_taco)"
   ]
  },
  {
   "cell_type": "code",
   "execution_count": null,
   "id": "2d6e2e2d",
   "metadata": {},
   "outputs": [],
   "source": [
    "\n"
   ]
  },
  {
   "cell_type": "markdown",
   "id": "80d223bf",
   "metadata": {},
   "source": [
    "## ========== REFEIÇÕES ==========\n",
    "[x] 1. Visualizar Refeições\n",
    "[x] 1B. Selecionar Refeição\n",
    "[x] 2. Adicionar Refeição\n",
    "    - base da dados toda contabilizada para 100g ou 1 unidade\n",
    "    - conseguir colocar qual o tamanho da porção em unidade ou gramas e calcular automático\n",
    "[] 2B. Adicionar Alimento à refeição\n",
    "[] 3. Remover Refeição\n",
    "[] 4. Selecionar Refeição\n",
    "    [] 1. Adicionar alimento\n",
    "    [] 2. Remover alimento\n",
    "    [] 3. Atualizar alimento\n",
    "    \n",
    "\n",
    "[ ] mostrar dados do planejamento"
   ]
  },
  {
   "cell_type": "markdown",
   "id": "02be8217",
   "metadata": {},
   "source": [
    "## VISUALIZAR REFEIÇÕES"
   ]
  },
  {
   "cell_type": "code",
   "execution_count": 21,
   "id": "6552997c",
   "metadata": {
    "scrolled": false
   },
   "outputs": [],
   "source": [
    "def visualizar_refeições():\n",
    "    print(f'{len(cardapio)} refeições cadastradas até o momento')\n",
    "    for k, v in cardapio.items():\n",
    "        print(k)"
   ]
  },
  {
   "cell_type": "markdown",
   "id": "c049378f",
   "metadata": {},
   "source": [
    "## ADICIONAR REFEIÇÃO"
   ]
  },
  {
   "cell_type": "code",
   "execution_count": 5,
   "id": "e9e5ebbc",
   "metadata": {},
   "outputs": [],
   "source": [
    "def adicionar_refeição():\n",
    "    refeição = str(input('Digite a Refeição: ')).strip().title()\n",
    "    cardapio[refeição] = dict() \n",
    "    display(cardapio)"
   ]
  },
  {
   "cell_type": "markdown",
   "id": "0b9c3ab1",
   "metadata": {},
   "source": [
    "## SELECIONAR REFEIÇÃO"
   ]
  },
  {
   "cell_type": "code",
   "execution_count": 25,
   "id": "0ec462d8",
   "metadata": {},
   "outputs": [],
   "source": [
    "def selecionar_refeição():\n",
    "    visualizar_refeições()\n",
    "    escolha = str(input('Qual refeição deseja selecionar? :'))\n",
    "    for k, v in cardapio.items():\n",
    "        if k == escolha:\n",
    "            print(k)\n",
    "            return k"
   ]
  },
  {
   "cell_type": "markdown",
   "id": "c4f1e12c",
   "metadata": {},
   "source": [
    "## ADICIONAR ALIMENTO A REFEIÇÃO"
   ]
  },
  {
   "cell_type": "code",
   "execution_count": 36,
   "id": "7b85f69e",
   "metadata": {},
   "outputs": [],
   "source": [
    "def adicionar_alimento():\n",
    "    refeição = selecionar_refeição()\n",
    "    alimento = str(input('Digite o nome do Alimento: ')).strip().title()\n",
    "    cardapio[refeição][alimento] = dict()\n",
    "    cardapio_ab = cardapio[refeição][alimento]\n",
    "    cardapio_ab['Quantidade'] = float(input('Digite o tamanho da porção, em gramas ou unidade: '))\n",
    "    cardapio_ab['Proteína (g)'] = float(input('Digite a quantidade de Proteína, em gramas, da porção: '))\n",
    "    cardapio_ab['Lipídeo (g)'] = float(input('Digite a quantidade de Lipídeo, em gramas, da porção: '))\n",
    "    cardapio_ab['Carboidrato (g)'] = float(input('Digite a quantidade de Carboidrato, em gramas, da porção: '))\n",
    "    cardapio_ab['Kcal'] = (cardapio_ab['Proteína (g)'] * 4 + cardapio_ab['Carboidrato (g)'] * 4 + cardapio_ab['Lipídeo (g)'] * 9)\n",
    "    display(cardapio)"
   ]
  },
  {
   "cell_type": "markdown",
   "id": "e4913138",
   "metadata": {},
   "source": [
    "## TESTES"
   ]
  },
  {
   "cell_type": "code",
   "execution_count": 22,
   "id": "6b9cf12c",
   "metadata": {},
   "outputs": [
    {
     "name": "stdout",
     "output_type": "stream",
     "text": [
      "3 refeições cadastradas até o momento\n",
      "Café Da Manhã\n",
      "Almoço\n",
      "Jantar\n"
     ]
    }
   ],
   "source": [
    "visualizar_refeições()"
   ]
  },
  {
   "cell_type": "code",
   "execution_count": 33,
   "id": "ad690dc2",
   "metadata": {
    "collapsed": true
   },
   "outputs": [
    {
     "ename": "KeyboardInterrupt",
     "evalue": "Interrupted by user",
     "output_type": "error",
     "traceback": [
      "\u001b[1;31m---------------------------------------------------------------------------\u001b[0m",
      "\u001b[1;31mKeyboardInterrupt\u001b[0m                         Traceback (most recent call last)",
      "Input \u001b[1;32mIn [33]\u001b[0m, in \u001b[0;36m<cell line: 1>\u001b[1;34m()\u001b[0m\n\u001b[1;32m----> 1\u001b[0m \u001b[43madicionar_refeição\u001b[49m\u001b[43m(\u001b[49m\u001b[43m)\u001b[49m\n",
      "Input \u001b[1;32mIn [5]\u001b[0m, in \u001b[0;36madicionar_refeição\u001b[1;34m()\u001b[0m\n\u001b[0;32m      1\u001b[0m \u001b[38;5;28;01mdef\u001b[39;00m \u001b[38;5;21madicionar_refeição\u001b[39m():\n\u001b[1;32m----> 2\u001b[0m     refeição \u001b[38;5;241m=\u001b[39m \u001b[38;5;28mstr\u001b[39m(\u001b[38;5;28;43minput\u001b[39;49m\u001b[43m(\u001b[49m\u001b[38;5;124;43m'\u001b[39;49m\u001b[38;5;124;43mDigite a Refeição: \u001b[39;49m\u001b[38;5;124;43m'\u001b[39;49m\u001b[43m)\u001b[49m)\u001b[38;5;241m.\u001b[39mstrip()\u001b[38;5;241m.\u001b[39mtitle()\n\u001b[0;32m      3\u001b[0m     cardapio[refeição] \u001b[38;5;241m=\u001b[39m \u001b[38;5;28mdict\u001b[39m() \n\u001b[0;32m      4\u001b[0m     display(cardapio)\n",
      "File \u001b[1;32m~\\anaconda3\\lib\\site-packages\\ipykernel\\kernelbase.py:1075\u001b[0m, in \u001b[0;36mKernel.raw_input\u001b[1;34m(self, prompt)\u001b[0m\n\u001b[0;32m   1071\u001b[0m \u001b[38;5;28;01mif\u001b[39;00m \u001b[38;5;129;01mnot\u001b[39;00m \u001b[38;5;28mself\u001b[39m\u001b[38;5;241m.\u001b[39m_allow_stdin:\n\u001b[0;32m   1072\u001b[0m     \u001b[38;5;28;01mraise\u001b[39;00m StdinNotImplementedError(\n\u001b[0;32m   1073\u001b[0m         \u001b[38;5;124m\"\u001b[39m\u001b[38;5;124mraw_input was called, but this frontend does not support input requests.\u001b[39m\u001b[38;5;124m\"\u001b[39m\n\u001b[0;32m   1074\u001b[0m     )\n\u001b[1;32m-> 1075\u001b[0m \u001b[38;5;28;01mreturn\u001b[39;00m \u001b[38;5;28;43mself\u001b[39;49m\u001b[38;5;241;43m.\u001b[39;49m\u001b[43m_input_request\u001b[49m\u001b[43m(\u001b[49m\n\u001b[0;32m   1076\u001b[0m \u001b[43m    \u001b[49m\u001b[38;5;28;43mstr\u001b[39;49m\u001b[43m(\u001b[49m\u001b[43mprompt\u001b[49m\u001b[43m)\u001b[49m\u001b[43m,\u001b[49m\n\u001b[0;32m   1077\u001b[0m \u001b[43m    \u001b[49m\u001b[38;5;28;43mself\u001b[39;49m\u001b[38;5;241;43m.\u001b[39;49m\u001b[43m_parent_ident\u001b[49m\u001b[43m[\u001b[49m\u001b[38;5;124;43m\"\u001b[39;49m\u001b[38;5;124;43mshell\u001b[39;49m\u001b[38;5;124;43m\"\u001b[39;49m\u001b[43m]\u001b[49m\u001b[43m,\u001b[49m\n\u001b[0;32m   1078\u001b[0m \u001b[43m    \u001b[49m\u001b[38;5;28;43mself\u001b[39;49m\u001b[38;5;241;43m.\u001b[39;49m\u001b[43mget_parent\u001b[49m\u001b[43m(\u001b[49m\u001b[38;5;124;43m\"\u001b[39;49m\u001b[38;5;124;43mshell\u001b[39;49m\u001b[38;5;124;43m\"\u001b[39;49m\u001b[43m)\u001b[49m\u001b[43m,\u001b[49m\n\u001b[0;32m   1079\u001b[0m \u001b[43m    \u001b[49m\u001b[43mpassword\u001b[49m\u001b[38;5;241;43m=\u001b[39;49m\u001b[38;5;28;43;01mFalse\u001b[39;49;00m\u001b[43m,\u001b[49m\n\u001b[0;32m   1080\u001b[0m \u001b[43m\u001b[49m\u001b[43m)\u001b[49m\n",
      "File \u001b[1;32m~\\anaconda3\\lib\\site-packages\\ipykernel\\kernelbase.py:1120\u001b[0m, in \u001b[0;36mKernel._input_request\u001b[1;34m(self, prompt, ident, parent, password)\u001b[0m\n\u001b[0;32m   1117\u001b[0m             \u001b[38;5;28;01mbreak\u001b[39;00m\n\u001b[0;32m   1118\u001b[0m \u001b[38;5;28;01mexcept\u001b[39;00m \u001b[38;5;167;01mKeyboardInterrupt\u001b[39;00m:\n\u001b[0;32m   1119\u001b[0m     \u001b[38;5;66;03m# re-raise KeyboardInterrupt, to truncate traceback\u001b[39;00m\n\u001b[1;32m-> 1120\u001b[0m     \u001b[38;5;28;01mraise\u001b[39;00m \u001b[38;5;167;01mKeyboardInterrupt\u001b[39;00m(\u001b[38;5;124m\"\u001b[39m\u001b[38;5;124mInterrupted by user\u001b[39m\u001b[38;5;124m\"\u001b[39m) \u001b[38;5;28;01mfrom\u001b[39;00m \u001b[38;5;28mNone\u001b[39m\n\u001b[0;32m   1121\u001b[0m \u001b[38;5;28;01mexcept\u001b[39;00m \u001b[38;5;167;01mException\u001b[39;00m:\n\u001b[0;32m   1122\u001b[0m     \u001b[38;5;28mself\u001b[39m\u001b[38;5;241m.\u001b[39mlog\u001b[38;5;241m.\u001b[39mwarning(\u001b[38;5;124m\"\u001b[39m\u001b[38;5;124mInvalid Message:\u001b[39m\u001b[38;5;124m\"\u001b[39m, exc_info\u001b[38;5;241m=\u001b[39m\u001b[38;5;28;01mTrue\u001b[39;00m)\n",
      "\u001b[1;31mKeyboardInterrupt\u001b[0m: Interrupted by user"
     ]
    }
   ],
   "source": [
    "adicionar_refeição()"
   ]
  },
  {
   "cell_type": "code",
   "execution_count": 26,
   "id": "6ae2745a",
   "metadata": {},
   "outputs": [
    {
     "name": "stdout",
     "output_type": "stream",
     "text": [
      "3 refeições cadastradas até o momento\n",
      "Café Da Manhã\n",
      "Almoço\n",
      "Jantar\n",
      "Qual refeição deseja selecionar? :Café da Manhã\n"
     ]
    }
   ],
   "source": [
    "selecionar_refeição()"
   ]
  },
  {
   "cell_type": "code",
   "execution_count": 38,
   "id": "10c108a7",
   "metadata": {
    "scrolled": false
   },
   "outputs": [
    {
     "name": "stdout",
     "output_type": "stream",
     "text": [
      "3 refeições cadastradas até o momento\n",
      "Café Da Manhã\n",
      "Almoço\n",
      "Jantar\n",
      "Qual refeição deseja selecionar? :Almoço\n",
      "Almoço\n",
      "Digite o nome do Alimento: Feijão\n",
      "Digite o tamanho da porção, em gramas ou unidade: 100\n",
      "Digite a quantidade de Proteína, em gramas, da porção: 15\n",
      "Digite a quantidade de Lipídeo, em gramas, da porção: 2\n",
      "Digite a quantidade de Carboidrato, em gramas, da porção: 50\n"
     ]
    },
    {
     "data": {
      "text/plain": [
       "{'Café Da Manhã': {},\n",
       " 'Almoço': {'Arroz': {'Quantidade': 200.0,\n",
       "   'Proteína (g)': 10.0,\n",
       "   'Lipídeo (g)': 0.0,\n",
       "   'Carboidrato (g)': 50.0,\n",
       "   'Kcal': 240.0},\n",
       "  'Feijão': {'Quantidade': 100.0,\n",
       "   'Proteína (g)': 15.0,\n",
       "   'Lipídeo (g)': 2.0,\n",
       "   'Carboidrato (g)': 50.0,\n",
       "   'Kcal': 278.0}},\n",
       " 'Jantar': {}}"
      ]
     },
     "metadata": {},
     "output_type": "display_data"
    }
   ],
   "source": [
    "adicionar_alimento()"
   ]
  },
  {
   "cell_type": "code",
   "execution_count": 48,
   "id": "0dd06a63",
   "metadata": {},
   "outputs": [
    {
     "name": "stdout",
     "output_type": "stream",
     "text": [
      "Café Da Manhã: \n",
      "Almoço: Arroz, Feijão, \n",
      "Jantar: \n"
     ]
    }
   ],
   "source": [
    "for k, v in cardapio.items():\n",
    "    print(k, end=': ')\n",
    "    for i in v:\n",
    "     print(i, end=', ')\n",
    "    print()"
   ]
  },
  {
   "cell_type": "code",
   "execution_count": null,
   "id": "ad0b968f",
   "metadata": {},
   "outputs": [],
   "source": []
  }
 ],
 "metadata": {
  "kernelspec": {
   "display_name": "Python 3 (ipykernel)",
   "language": "python",
   "name": "python3"
  },
  "language_info": {
   "codemirror_mode": {
    "name": "ipython",
    "version": 3
   },
   "file_extension": ".py",
   "mimetype": "text/x-python",
   "name": "python",
   "nbconvert_exporter": "python",
   "pygments_lexer": "ipython3",
   "version": "3.9.12"
  }
 },
 "nbformat": 4,
 "nbformat_minor": 5
}
